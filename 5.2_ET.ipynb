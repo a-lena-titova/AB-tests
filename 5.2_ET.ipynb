{
 "cells": [
  {
   "cell_type": "code",
   "execution_count": 17,
   "id": "cd9afc4b-1834-4ab7-85c7-011921045446",
   "metadata": {},
   "outputs": [],
   "source": [
    "# Импортируем все необходимые библиотеки\n",
    "import pandahouse\n",
    "import pandas as pd\n",
    "import seaborn as sns\n",
    "from scipy import stats\n",
    "import numpy as np"
   ]
  },
  {
   "cell_type": "code",
   "execution_count": 18,
   "id": "95443ee8-d296-4c55-92cd-3991b282e7b6",
   "metadata": {},
   "outputs": [],
   "source": [
    "# Подключаемся к clickhouse\n",
    "connection = {'host': 'https://clickhouse.lab.karpov.courses',\n",
    "                      'database':'simulator_20220620',\n",
    "                      'user':'student', \n",
    "                      'password':'dpo_python_2020'\n",
    "                     }"
   ]
  },
  {
   "cell_type": "code",
   "execution_count": 19,
   "id": "9e73a16c-fb36-45f9-aba6-a0613ed3a080",
   "metadata": {},
   "outputs": [
    {
     "data": {
      "text/html": [
       "<div>\n",
       "<style scoped>\n",
       "    .dataframe tbody tr th:only-of-type {\n",
       "        vertical-align: middle;\n",
       "    }\n",
       "\n",
       "    .dataframe tbody tr th {\n",
       "        vertical-align: top;\n",
       "    }\n",
       "\n",
       "    .dataframe thead th {\n",
       "        text-align: right;\n",
       "    }\n",
       "</style>\n",
       "<table border=\"1\" class=\"dataframe\">\n",
       "  <thead>\n",
       "    <tr style=\"text-align: right;\">\n",
       "      <th></th>\n",
       "      <th>user_id</th>\n",
       "    </tr>\n",
       "  </thead>\n",
       "  <tbody>\n",
       "    <tr>\n",
       "      <th>0</th>\n",
       "      <td>115269</td>\n",
       "    </tr>\n",
       "    <tr>\n",
       "      <th>1</th>\n",
       "      <td>122097</td>\n",
       "    </tr>\n",
       "    <tr>\n",
       "      <th>2</th>\n",
       "      <td>132354</td>\n",
       "    </tr>\n",
       "    <tr>\n",
       "      <th>3</th>\n",
       "      <td>134989</td>\n",
       "    </tr>\n",
       "    <tr>\n",
       "      <th>4</th>\n",
       "      <td>135083</td>\n",
       "    </tr>\n",
       "  </tbody>\n",
       "</table>\n",
       "</div>"
      ],
      "text/plain": [
       "   user_id\n",
       "0   115269\n",
       "1   122097\n",
       "2   132354\n",
       "3   134989\n",
       "4   135083"
      ]
     },
     "execution_count": 19,
     "metadata": {},
     "output_type": "execute_result"
    }
   ],
   "source": [
    "# Вытаскиваем пользователей\n",
    "q = \"\"\"\n",
    "SELECT distinct user_id\n",
    "FROM {db}.feed_actions\n",
    "WHERE toDate(time) >= '2022-05-24' and toDate(time) <= '2022-05-30'\n",
    "\"\"\"\n",
    "\n",
    "users_df = pandahouse.read_clickhouse(q, connection=connection)\n",
    "users_df.head()"
   ]
  },
  {
   "cell_type": "code",
   "execution_count": 20,
   "id": "341c3427-f55c-4dd7-8e05-e6922b8deef4",
   "metadata": {},
   "outputs": [
    {
     "data": {
      "text/html": [
       "<div>\n",
       "<style scoped>\n",
       "    .dataframe tbody tr th:only-of-type {\n",
       "        vertical-align: middle;\n",
       "    }\n",
       "\n",
       "    .dataframe tbody tr th {\n",
       "        vertical-align: top;\n",
       "    }\n",
       "\n",
       "    .dataframe thead th {\n",
       "        text-align: right;\n",
       "    }\n",
       "</style>\n",
       "<table border=\"1\" class=\"dataframe\">\n",
       "  <thead>\n",
       "    <tr style=\"text-align: right;\">\n",
       "      <th></th>\n",
       "      <th>exp_group</th>\n",
       "      <th>uniqExact(user_id)</th>\n",
       "    </tr>\n",
       "  </thead>\n",
       "  <tbody>\n",
       "    <tr>\n",
       "      <th>0</th>\n",
       "      <td>0</td>\n",
       "      <td>10091</td>\n",
       "    </tr>\n",
       "    <tr>\n",
       "      <th>1</th>\n",
       "      <td>1</td>\n",
       "      <td>9976</td>\n",
       "    </tr>\n",
       "    <tr>\n",
       "      <th>2</th>\n",
       "      <td>2</td>\n",
       "      <td>9966</td>\n",
       "    </tr>\n",
       "    <tr>\n",
       "      <th>3</th>\n",
       "      <td>3</td>\n",
       "      <td>10140</td>\n",
       "    </tr>\n",
       "    <tr>\n",
       "      <th>4</th>\n",
       "      <td>4</td>\n",
       "      <td>9976</td>\n",
       "    </tr>\n",
       "  </tbody>\n",
       "</table>\n",
       "</div>"
      ],
      "text/plain": [
       "   exp_group  uniqExact(user_id)\n",
       "0          0               10091\n",
       "1          1                9976\n",
       "2          2                9966\n",
       "3          3               10140\n",
       "4          4                9976"
      ]
     },
     "execution_count": 20,
     "metadata": {},
     "output_type": "execute_result"
    }
   ],
   "source": [
    "# Делаем группы\n",
    "q = \"\"\"\n",
    "SELECT xxHash64(toString(user_id)||'my_salt')%5 as exp_group, \n",
    "    uniqExact(user_id)\n",
    "FROM {db}.feed_actions \n",
    "WHERE toDate(time) >= '2022-05-24' and toDate(time) <= '2022-05-30' \n",
    "group by exp_group \n",
    "\"\"\"\n",
    "\n",
    "pandahouse.read_clickhouse(q, connection=connection)"
   ]
  },
  {
   "cell_type": "code",
   "execution_count": 21,
   "id": "8329daf4-4dc2-4c2f-bea2-c0b9a7222838",
   "metadata": {},
   "outputs": [
    {
     "data": {
      "text/html": [
       "<div>\n",
       "<style scoped>\n",
       "    .dataframe tbody tr th:only-of-type {\n",
       "        vertical-align: middle;\n",
       "    }\n",
       "\n",
       "    .dataframe tbody tr th {\n",
       "        vertical-align: top;\n",
       "    }\n",
       "\n",
       "    .dataframe thead th {\n",
       "        text-align: right;\n",
       "    }\n",
       "</style>\n",
       "<table border=\"1\" class=\"dataframe\">\n",
       "  <thead>\n",
       "    <tr style=\"text-align: right;\">\n",
       "      <th></th>\n",
       "      <th>user_id</th>\n",
       "      <th>likes</th>\n",
       "      <th>views</th>\n",
       "      <th>ctr</th>\n",
       "    </tr>\n",
       "    <tr>\n",
       "      <th>exp_group</th>\n",
       "      <th></th>\n",
       "      <th></th>\n",
       "      <th></th>\n",
       "      <th></th>\n",
       "    </tr>\n",
       "  </thead>\n",
       "  <tbody>\n",
       "    <tr>\n",
       "      <th>1</th>\n",
       "      <td>10079</td>\n",
       "      <td>10079</td>\n",
       "      <td>10079</td>\n",
       "      <td>10079</td>\n",
       "    </tr>\n",
       "    <tr>\n",
       "      <th>2</th>\n",
       "      <td>9952</td>\n",
       "      <td>9952</td>\n",
       "      <td>9952</td>\n",
       "      <td>9952</td>\n",
       "    </tr>\n",
       "  </tbody>\n",
       "</table>\n",
       "</div>"
      ],
      "text/plain": [
       "           user_id  likes  views    ctr\n",
       "exp_group                              \n",
       "1            10079  10079  10079  10079\n",
       "2             9952   9952   9952   9952"
      ]
     },
     "execution_count": 21,
     "metadata": {},
     "output_type": "execute_result"
    }
   ],
   "source": [
    "# Смотрим на нужные нам группы (1 и 2), записываем их в датафрейм\n",
    "\n",
    "q = \"\"\"\n",
    "SELECT exp_group, \n",
    "    user_id,\n",
    "    sum(action = 'like') as likes,\n",
    "    sum(action = 'view') as views,\n",
    "    likes/views as ctr\n",
    "FROM {db}.feed_actions \n",
    "WHERE toDate(time) >= '2022-05-24' and toDate(time) <= '2022-05-30' \n",
    "    and exp_group in (1,2)\n",
    "GROUP BY exp_group, user_id\n",
    "\"\"\"\n",
    "\n",
    "df = pandahouse.read_clickhouse(q, connection=connection)\n",
    "\n",
    "df.groupby('exp_group').count()"
   ]
  },
  {
   "cell_type": "code",
   "execution_count": 22,
   "id": "9a5bf319-eec8-4dd8-b066-97abf303a9c0",
   "metadata": {},
   "outputs": [
    {
     "data": {
      "image/png": "[encoded data removed]",
      "text/plain": [
       "<Figure size 842.4x595.44 with 1 Axes>"
      ]
     },
     "metadata": {},
     "output_type": "display_data"
    }
   ],
   "source": [
    "# Посмотрим на графики глазами\n",
    "sns.set(rc={'figure.figsize':(11.7,8.27)})\n",
    "\n",
    "groups = sns.histplot(data = df, \n",
    "              x='ctr', \n",
    "              hue='exp_group', \n",
    "              palette = ['r', 'b'],\n",
    "              alpha=0.5,\n",
    "              kde=False)"
   ]
  },
  {
   "cell_type": "markdown",
   "id": "be9b0689-ba89-40f3-9f5d-f4e0acd7ef1f",
   "metadata": {},
   "source": [
    "## На графике хорошо видно, что во 2 группе, где был использован новый алгоритм рекомендации постов, получилось бимодальное распределение CTR c 2 \"пиками\".\n",
    "## В тестовой группе распеделение осталось одномодальным."
   ]
  },
  {
   "cell_type": "markdown",
   "id": "7aa8654c-490c-4a8d-989f-1f6b24fa74f1",
   "metadata": {},
   "source": [
    "## Почему так произошло? Есть несколько гипотез. Первая заключается в том, что части таргет группы новый алгоритм \"не зашел\", а другой - \"зашел\", поэтому у одних CTR вырос, у других - упал. Соответственно, получилось два пика. Вторая гипотеза - у части таргет-группы что-то сломалось в новом алгоритме и он им показывал посты с \"багами\". Соотвественно, у части пользователей с \"багами\" CTR упал, у другой с работающим алгоритмом - вырос. Обе гипотезы предполагают, что новый алгоритм не устроил пользователей, в 1 случае из-за вкусовых несовпадений, во втором - из-за технических неполадок. 3 гипотеза - таргет группа изначально имела бимодальный CTR."
   ]
  },
  {
   "cell_type": "code",
   "execution_count": 23,
   "id": "6eab4569-c1e2-4cbf-b580-b0e8d600162d",
   "metadata": {},
   "outputs": [
    {
     "data": {
      "text/plain": [
       "Ttest_indResult(statistic=0.7094392041270486, pvalue=0.4780623130874935)"
      ]
     },
     "execution_count": 23,
     "metadata": {},
     "output_type": "execute_result"
    }
   ],
   "source": [
    "# Делаем t-тест Стьюдента\n",
    "stats.ttest_ind(df[df.exp_group == 1].ctr,\n",
    "                df[df.exp_group == 2].ctr,\n",
    "                equal_var=False)"
   ]
  },
  {
   "cell_type": "markdown",
   "id": "286fcc46-6260-4483-857e-dfb8a1e5f618",
   "metadata": {},
   "source": [
    "## P-value в тесте Стьюдента больше 0,05%. Соответственно, нулевая гипотеза о равенстве CTR в группах не отклоняется. Получается, что тест Стьюдента оказался не чувствительным к отличиям в распределении CTR. И не смотря на видимое глазами различия, статистически его не показал."
   ]
  },
  {
   "cell_type": "code",
   "execution_count": null,
   "id": "e3237cc8-ee12-40d1-af19-e614145ee2ab",
   "metadata": {},
   "outputs": [
    {
     "name": "stdout",
     "output_type": "stream",
     "text": [
      "MannwhitneyuResult(statistic=56601260.5, pvalue=6.0376484617779035e-56)\n",
      "В 56.38 % случаев A > B. Должно получиться около 50%\n"
     ]
    }
   ],
   "source": [
    "# Делаем тест Манна-Уитни. Гипотетически не привязан к распределению метрики. \n",
    "print(stats.mannwhitneyu(df[df.exp_group == 1].ctr,\n",
    "                df[df.exp_group == 2].ctr))\n",
    "\n",
    "A_gt_B = 0\n",
    "for _ in range(10000):\n",
    "    A_gt_B+= df[df.exp_group == 1].ctr.sample().values[0] > df[df.exp_group == 2].ctr.sample().values[0]\n",
    "    \n",
    "print('В', A_gt_B/100, '% случаев A > B. Должно получиться около 50%')"
   ]
  },
  {
   "cell_type": "markdown",
   "id": "9cb249b3-e9f6-414a-a083-185db7ec1d5d",
   "metadata": {},
   "source": [
    "## Нулевая гипотеза теста Манна-Уитни отвергается. Тест заметил различия в 2 группах, так как не привязан к распределению метрики"
   ]
  },
  {
   "cell_type": "code",
   "execution_count": 35,
   "id": "4e224d2c-7959-468b-b6c0-ca5dcb3bd6bb",
   "metadata": {},
   "outputs": [
    {
     "name": "stderr",
     "output_type": "stream",
     "text": [
      "/nfs/env/lib/python3.8/site-packages/seaborn/distributions.py:2557: FutureWarning: `distplot` is a deprecated function and will be removed in a future version. Please adapt your code to use either `displot` (a figure-level function with similar flexibility) or `histplot` (an axes-level function for histograms).\n",
      "  warnings.warn(msg, FutureWarning)\n"
     ]
    },
    {
     "data": {
      "text/plain": [
       "<AxesSubplot:xlabel='ctr'>"
      ]
     },
     "execution_count": 35,
     "metadata": {},
     "output_type": "execute_result"
    },
    {
     "data": {
      "image/png": "[encoded data removed]",
      "text/plain": [
       "<Figure size 842.4x595.44 with 1 Axes>"
      ]
     },
     "metadata": {},
     "output_type": "display_data"
    }
   ],
   "source": [
    "# Проведем тест на сглаженном ctr (α=5). Нет гарантий, что изменение сглаженного CTR будет сонаправленно изменению настоящего CTR.\n",
    "\n",
    "def get_smothed_ctr(user_likes, user_views, global_ctr, alpha):\n",
    "    smothed_ctr = (user_likes + alpha * global_ctr) / (user_views + alpha)\n",
    "    return smothed_ctr\n",
    "\n",
    "q = \"\"\"\n",
    "SELECT exp_group, \n",
    "    user_id,\n",
    "    sum(action = 'like') as likes,\n",
    "    sum(action = 'view') as views,\n",
    "    likes/views as ctr\n",
    "FROM {db}.feed_actions \n",
    "WHERE toDate(time) >= '2022-05-24' and toDate(time) <= '2022-05-30' \n",
    "    and exp_group in (1,2)\n",
    "GROUP BY exp_group, user_id\n",
    "\"\"\"\n",
    "\n",
    "df = pandahouse.read_clickhouse(q, connection=connection)\n",
    "\n",
    "global_ctr_1 = df[df.exp_group == 1].likes.sum()/df[df.exp_group == 1].views.sum()\n",
    "global_ctr_2 = df[df.exp_group == 2].likes.sum()/df[df.exp_group == 2].views.sum()\n",
    "\n",
    "group2 = df[df.exp_group == 2].copy()\n",
    "sns.distplot(group2.ctr, \n",
    "             kde = False)"
   ]
  },
  {
   "cell_type": "code",
   "execution_count": 36,
   "id": "44d18de9-7e69-4fd5-b7b9-b39fc5df5056",
   "metadata": {},
   "outputs": [
    {
     "data": {
      "text/plain": [
       "<AxesSubplot:xlabel='smothed_ctr'>"
      ]
     },
     "execution_count": 36,
     "metadata": {},
     "output_type": "execute_result"
    },
    {
     "data": {
      "image/png": "[encoded data removed]",
      "text/plain": [
       "<Figure size 842.4x595.44 with 1 Axes>"
      ]
     },
     "metadata": {},
     "output_type": "display_data"
    }
   ],
   "source": [
    "# Сглаженный CTR\n",
    "group2['smothed_ctr'] = df.apply(\n",
    "    lambda x: get_smothed_ctr(x['likes'], x['views'], global_ctr_2, 5), axis=1)\n",
    "\n",
    "sns.distplot(group2.smothed_ctr, \n",
    "             kde = False)"
   ]
  },
  {
   "cell_type": "code",
   "execution_count": 37,
   "id": "d0a1e285-85e9-4aeb-98ad-5ae85728954f",
   "metadata": {},
   "outputs": [
    {
     "data": {
      "text/plain": [
       "Ttest_indResult(statistic=-2.2841320431616983, pvalue=0.0223769815558559)"
      ]
     },
     "execution_count": 37,
     "metadata": {},
     "output_type": "execute_result"
    }
   ],
   "source": [
    "## Проводим на сглаженном CTR тест МаннаУитни\n",
    "\n",
    "group2 = df[df.exp_group == 2].copy()\n",
    "group1 = df[df.exp_group == 1].copy()\n",
    "\n",
    "group2['smothed_ctr'] = df.apply(\n",
    "    lambda x: get_smothed_ctr(x['likes'], x['views'], global_ctr_2, 5), axis=1)\n",
    "\n",
    "group1['smothed_ctr'] = df.apply(\n",
    "    lambda x: get_smothed_ctr(x['likes'], x['views'], global_ctr_1, 5), axis=1)\n",
    "\n",
    "stats.ttest_ind(group2['smothed_ctr'],\n",
    "                group1['smothed_ctr'],\n",
    "                equal_var=False)"
   ]
  },
  {
   "cell_type": "markdown",
   "id": "4ac4e546-9bff-4d44-9625-57b7d3807200",
   "metadata": {},
   "source": [
    "## Поверх сглаженного CTR t-тест видит отличия"
   ]
  },
  {
   "cell_type": "code",
   "execution_count": 38,
   "id": "200644dc-437e-4284-a7e1-c2a8e47f71dd",
   "metadata": {},
   "outputs": [
    {
     "name": "stdout",
     "output_type": "stream",
     "text": [
      "MannwhitneyuResult(statistic=43381083.0, pvalue=1.6163964114270227e-61)\n",
      "В 43.11 % случаев A > B. Должно получиться около 50%\n"
     ]
    }
   ],
   "source": [
    "## Проводим на сглаженном CTR тест МаннаУитни. Отличие не прокрасилось\n",
    "\n",
    "group2 = df[df.exp_group == 2].copy()\n",
    "group1 = df[df.exp_group == 1].copy()\n",
    "\n",
    "group2['smothed_ctr'] = df.apply(\n",
    "    lambda x: get_smothed_ctr(x['likes'], x['views'], global_ctr_2, 5), axis=1)\n",
    "\n",
    "group1['smothed_ctr'] = df.apply(\n",
    "    lambda x: get_smothed_ctr(x['likes'], x['views'], global_ctr_1, 5), axis=1)\n",
    "\n",
    "print(stats.mannwhitneyu(group2['smothed_ctr'], \n",
    "                   group1['smothed_ctr'], \n",
    "                   alternative = 'two-sided'))\n",
    "\n",
    "A_gt_B = 0\n",
    "for _ in range(10000):\n",
    "    A_gt_B+= group2['smothed_ctr'].sample().values[0] > group1['smothed_ctr'].sample().values[0]\n",
    "    \n",
    "print('В', A_gt_B/100, '% случаев A > B. Должно получиться около 50%')"
   ]
  },
  {
   "cell_type": "markdown",
   "id": "be868f56-1a7c-4c9d-acdb-895d1e335255",
   "metadata": {},
   "source": [
    "## Поверх сглаженного CTR тест Манна-Уитни также видит отличия"
   ]
  },
  {
   "cell_type": "code",
   "execution_count": 29,
   "id": "fb73605d-7eb8-49d0-87e7-448740834225",
   "metadata": {},
   "outputs": [
    {
     "data": {
      "text/plain": [
       "<AxesSubplot:ylabel='Count'>"
      ]
     },
     "execution_count": 29,
     "metadata": {},
     "output_type": "execute_result"
    },
    {
     "data": {
      "image/png": "[encoded data removed]",
      "text/plain": [
       "<Figure size 842.4x595.44 with 1 Axes>"
      ]
     },
     "metadata": {},
     "output_type": "display_data"
    }
   ],
   "source": [
    "# Пуассоновский бутстреп - не требователен к распределению (!)\n",
    "\n",
    "def bootstrap(likes1, views1, likes2, views2, n_bootstrap=2000):\n",
    "\n",
    "    poisson_bootstraps1 = stats.poisson(1).rvs(\n",
    "        (n_bootstrap, len(likes1))).astype(np.int64)\n",
    "\n",
    "    poisson_bootstraps2 = stats.poisson(1).rvs(\n",
    "            (n_bootstrap, len(likes2))).astype(np.int64)\n",
    "    \n",
    "    globalCTR1 = (poisson_bootstraps1*likes1).sum(axis=1)/(poisson_bootstraps1*views1).sum(axis=1)\n",
    "    \n",
    "    globalCTR2 = (poisson_bootstraps2*likes2).sum(axis=1)/(poisson_bootstraps2*views2).sum(axis=1)\n",
    "\n",
    "    return globalCTR1, globalCTR2\n",
    "\n",
    "\n",
    "q = \"\"\"\n",
    "SELECT exp_group, \n",
    "    user_id,\n",
    "    sum(action = 'like') as likes,\n",
    "    sum(action = 'view') as views,\n",
    "    likes/views as ctr\n",
    "FROM {db}.feed_actions \n",
    "WHERE toDate(time) >= '2022-05-24' and toDate(time) <= '2022-05-30' \n",
    "    and exp_group in (1,2)\n",
    "GROUP BY exp_group, user_id\n",
    "\"\"\"\n",
    "\n",
    "\n",
    "df = pandahouse.read_clickhouse(q, connection=connection)\n",
    "\n",
    "likes1 = df[df.exp_group == 1].likes.to_numpy()\n",
    "views1 = df[df.exp_group == 1].views.to_numpy()\n",
    "likes2 = df[df.exp_group == 2].likes.to_numpy()\n",
    "views2 = df[df.exp_group == 2].views.to_numpy()\n",
    "\n",
    "ctr1, ctr2 = bootstrap(likes1, views1, likes2, views2)\n",
    "\n",
    "sns.histplot(ctr1, color = ['r'])\n",
    "sns.histplot(ctr2)"
   ]
  },
  {
   "cell_type": "code",
   "execution_count": 31,
   "id": "2968e41b-aaba-4945-b6d0-13a5929952f6",
   "metadata": {},
   "outputs": [
    {
     "data": {
      "text/plain": [
       "Ttest_indResult(statistic=270.5961273721621, pvalue=0.0)"
      ]
     },
     "execution_count": 31,
     "metadata": {},
     "output_type": "execute_result"
    }
   ],
   "source": [
    "## Проведя на бутстрепе t-тест Стьюдента мы получаем pvalue равное 0 (графики не пересекаются). Соответственно, различия в CTR значимые.\n",
    "stats.ttest_ind(ctr1,\n",
    "                ctr2,\n",
    "                equal_var=False)"
   ]
  },
  {
   "cell_type": "markdown",
   "id": "91c64529-343c-40a3-a62f-91ac4f6a8f0c",
   "metadata": {},
   "source": [
    "## Пуассоновский бутстреп показал, что в таргет группе CTR стал ниже, чем в контрольной"
   ]
  },
  {
   "cell_type": "code",
   "execution_count": 32,
   "id": "2e4143d7-987f-4175-b0ae-beb59dc085e8",
   "metadata": {},
   "outputs": [],
   "source": [
    "## Тест МаннаУитни поверх бакетного преобразования\n",
    "\n",
    "q = \"\"\"\n",
    "\n",
    "SELECT exp_group, bucket,\n",
    "    sum(likes)/sum(views) as bucket_ctr,\n",
    "    quantileExact(0.9)(ctr) as ctr9\n",
    "FROM (SELECT exp_group, \n",
    "        xxHash64(user_id)%50 as bucket,\n",
    "        user_id,\n",
    "        sum(action = 'like') as likes,\n",
    "        sum(action = 'view') as views,\n",
    "        likes/views as ctr\n",
    "    FROM {db}.feed_actions \n",
    "    WHERE toDate(time) >= '2022-05-24' and toDate(time) <= '2022-05-30' \n",
    "        and exp_group in (1,2)\n",
    "    GROUP BY exp_group, bucket, user_id)\n",
    "GROUP BY exp_group, bucket\n",
    "\"\"\"\n",
    "\n",
    "df = pandahouse.read_clickhouse(q, connection=connection)"
   ]
  },
  {
   "cell_type": "code",
   "execution_count": 33,
   "id": "855b156b-ba1b-45c7-aff5-abaeb2d765a7",
   "metadata": {},
   "outputs": [
    {
     "data": {
      "text/plain": [
       "MannwhitneyuResult(statistic=1995.0, pvalue=2.859963936492646e-07)"
      ]
     },
     "execution_count": 33,
     "metadata": {},
     "output_type": "execute_result"
    }
   ],
   "source": [
    "#тест Манна-Уитни видит отличие\n",
    "stats.mannwhitneyu(df[df.exp_group == 1].bucket_ctr, \n",
    "                   df[df.exp_group == 2].bucket_ctr, \n",
    "                   alternative = 'two-sided')"
   ]
  },
  {
   "cell_type": "code",
   "execution_count": 34,
   "id": "1af365a4-caad-4e2e-8f40-fc03d5ad65d9",
   "metadata": {},
   "outputs": [
    {
     "data": {
      "text/plain": [
       "Ttest_indResult(statistic=5.668234732053979, pvalue=3.4455951649945907e-07)"
      ]
     },
     "execution_count": 34,
     "metadata": {},
     "output_type": "execute_result"
    }
   ],
   "source": [
    "#и t-тест тоже\n",
    "stats.ttest_ind(df[df.exp_group == 1].bucket_ctr, \n",
    "                   df[df.exp_group == 2].bucket_ctr, \n",
    "                   equal_var = False)\n"
   ]
  },
  {
   "cell_type": "markdown",
   "id": "bd4c6005-3d6c-4f65-bc9e-dadc14078fbc",
   "metadata": {},
   "source": [
    "## Поверх бакетного преобразования тест и Манна-Уитни, и t-тест видят отличие CTR"
   ]
  },
  {
   "cell_type": "markdown",
   "id": "a09790f6-ece1-4a38-90ca-4f54876dac56",
   "metadata": {},
   "source": [
    "# (!) Итого: t-тест не показал отличий в CTR\n",
    "# (!) Тест МаннаУитни, Пуассоновский бутстреп, а также проведенные поверх сглаженного CTR и бакетного преобразования тест МаннаУитни и t-тест показали отличия в CTR"
   ]
  },
  {
   "cell_type": "markdown",
   "id": "4fc91780-bdbf-423f-b1df-3f8f8d3a35bf",
   "metadata": {},
   "source": [
    "# (!) Рекоммендация: Не раскатывать алгоритм на всех пользователей. Во-первых, потому что пуассоновский бутстреп показал, что СTR в таргет группе стал ниже, чем в контрольной группе. Во-вторых, стоит также разобраться, почему CTR стал бимодальным."
   ]
  }
 ],
 "metadata": {
  "kernelspec": {
   "display_name": "Python 3 (ipykernel)",
   "language": "python",
   "name": "python3"
  },
  "language_info": {
   "codemirror_mode": {
    "name": "ipython",
    "version": 3
   },
   "file_extension": ".py",
   "mimetype": "text/x-python",
   "name": "python",
   "nbconvert_exporter": "python",
   "pygments_lexer": "ipython3",
   "version": "3.8.10"
  }
 },
 "nbformat": 4,
 "nbformat_minor": 5
}
