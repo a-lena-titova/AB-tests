{
 "cells": [
  {
   "cell_type": "code",
   "execution_count": 1,
   "id": "21d2a98c-5d49-48b9-9afb-67c34be98e9e",
   "metadata": {},
   "outputs": [],
   "source": [
    "# Импортируем все необходимые библиотеки\n",
    "import pandahouse\n",
    "import pandas as pd\n",
    "import seaborn as sns\n",
    "from scipy import stats\n",
    "import numpy as np"
   ]
  },
  {
   "cell_type": "code",
   "execution_count": 2,
   "id": "08061d64-6c41-44da-96f4-42226d89b682",
   "metadata": {},
   "outputs": [],
   "source": [
    "# Подключаемся к clickhouse\n",
    "connection = {'host': 'https://clickhouse.lab.karpov.courses',\n",
    "                      'database':'simulator_20220620',\n",
    "                      'user':'student', \n",
    "                      'password':'dpo_python_2020'\n",
    "                     }"
   ]
  },
  {
   "cell_type": "code",
   "execution_count": 3,
   "id": "5fbab5f5-b0be-4b83-92e8-5c7a0dc4bc45",
   "metadata": {},
   "outputs": [
    {
     "data": {
      "text/html": [
       "<div>\n",
       "<style scoped>\n",
       "    .dataframe tbody tr th:only-of-type {\n",
       "        vertical-align: middle;\n",
       "    }\n",
       "\n",
       "    .dataframe tbody tr th {\n",
       "        vertical-align: top;\n",
       "    }\n",
       "\n",
       "    .dataframe thead th {\n",
       "        text-align: right;\n",
       "    }\n",
       "</style>\n",
       "<table border=\"1\" class=\"dataframe\">\n",
       "  <thead>\n",
       "    <tr style=\"text-align: right;\">\n",
       "      <th></th>\n",
       "      <th>user_id</th>\n",
       "    </tr>\n",
       "  </thead>\n",
       "  <tbody>\n",
       "    <tr>\n",
       "      <th>0</th>\n",
       "      <td>3011</td>\n",
       "    </tr>\n",
       "    <tr>\n",
       "      <th>1</th>\n",
       "      <td>11066</td>\n",
       "    </tr>\n",
       "    <tr>\n",
       "      <th>2</th>\n",
       "      <td>14843</td>\n",
       "    </tr>\n",
       "    <tr>\n",
       "      <th>3</th>\n",
       "      <td>15938</td>\n",
       "    </tr>\n",
       "    <tr>\n",
       "      <th>4</th>\n",
       "      <td>1725</td>\n",
       "    </tr>\n",
       "  </tbody>\n",
       "</table>\n",
       "</div>"
      ],
      "text/plain": [
       "   user_id\n",
       "0     3011\n",
       "1    11066\n",
       "2    14843\n",
       "3    15938\n",
       "4     1725"
      ]
     },
     "execution_count": 3,
     "metadata": {},
     "output_type": "execute_result"
    }
   ],
   "source": [
    "# Вытаскиваем пользователей\n",
    "q = \"\"\"\n",
    "SELECT distinct user_id\n",
    "FROM {db}.feed_actions\n",
    "WHERE toDate(time) >= '2022-05-17' and toDate(time) <= '2022-05-23'\n",
    "\"\"\"\n",
    "\n",
    "users_df = pandahouse.read_clickhouse(q, connection=connection)\n",
    "users_df.head()"
   ]
  },
  {
   "cell_type": "code",
   "execution_count": 4,
   "id": "5f8074d4-514c-46c1-8d88-6952d4176c0c",
   "metadata": {},
   "outputs": [
    {
     "data": {
      "text/html": [
       "<div>\n",
       "<style scoped>\n",
       "    .dataframe tbody tr th:only-of-type {\n",
       "        vertical-align: middle;\n",
       "    }\n",
       "\n",
       "    .dataframe tbody tr th {\n",
       "        vertical-align: top;\n",
       "    }\n",
       "\n",
       "    .dataframe thead th {\n",
       "        text-align: right;\n",
       "    }\n",
       "</style>\n",
       "<table border=\"1\" class=\"dataframe\">\n",
       "  <thead>\n",
       "    <tr style=\"text-align: right;\">\n",
       "      <th></th>\n",
       "      <th>exp_group</th>\n",
       "      <th>uniqExact(user_id)</th>\n",
       "    </tr>\n",
       "  </thead>\n",
       "  <tbody>\n",
       "    <tr>\n",
       "      <th>0</th>\n",
       "      <td>0</td>\n",
       "      <td>8552</td>\n",
       "    </tr>\n",
       "    <tr>\n",
       "      <th>1</th>\n",
       "      <td>1</td>\n",
       "      <td>8496</td>\n",
       "    </tr>\n",
       "    <tr>\n",
       "      <th>2</th>\n",
       "      <td>2</td>\n",
       "      <td>8491</td>\n",
       "    </tr>\n",
       "    <tr>\n",
       "      <th>3</th>\n",
       "      <td>3</td>\n",
       "      <td>8559</td>\n",
       "    </tr>\n",
       "    <tr>\n",
       "      <th>4</th>\n",
       "      <td>4</td>\n",
       "      <td>8487</td>\n",
       "    </tr>\n",
       "  </tbody>\n",
       "</table>\n",
       "</div>"
      ],
      "text/plain": [
       "   exp_group  uniqExact(user_id)\n",
       "0          0                8552\n",
       "1          1                8496\n",
       "2          2                8491\n",
       "3          3                8559\n",
       "4          4                8487"
      ]
     },
     "execution_count": 4,
     "metadata": {},
     "output_type": "execute_result"
    }
   ],
   "source": [
    "# Делаем группы\n",
    "q = \"\"\"\n",
    "SELECT xxHash64(toString(user_id)||'my_salt')%5 as exp_group, \n",
    "    uniqExact(user_id)\n",
    "FROM {db}.feed_actions \n",
    "WHERE toDate(time) >= '2022-05-17' and toDate(time) <= '2022-05-23'\n",
    "group by exp_group \n",
    "\"\"\"\n",
    "\n",
    "pandahouse.read_clickhouse(q, connection=connection)"
   ]
  },
  {
   "cell_type": "code",
   "execution_count": 5,
   "id": "9c244593-87df-463f-9212-88bb767fdb67",
   "metadata": {},
   "outputs": [
    {
     "data": {
      "text/html": [
       "<div>\n",
       "<style scoped>\n",
       "    .dataframe tbody tr th:only-of-type {\n",
       "        vertical-align: middle;\n",
       "    }\n",
       "\n",
       "    .dataframe tbody tr th {\n",
       "        vertical-align: top;\n",
       "    }\n",
       "\n",
       "    .dataframe thead th {\n",
       "        text-align: right;\n",
       "    }\n",
       "</style>\n",
       "<table border=\"1\" class=\"dataframe\">\n",
       "  <thead>\n",
       "    <tr style=\"text-align: right;\">\n",
       "      <th></th>\n",
       "      <th>user_id</th>\n",
       "      <th>likes</th>\n",
       "      <th>views</th>\n",
       "      <th>ctr</th>\n",
       "    </tr>\n",
       "    <tr>\n",
       "      <th>exp_group</th>\n",
       "      <th></th>\n",
       "      <th></th>\n",
       "      <th></th>\n",
       "      <th></th>\n",
       "    </tr>\n",
       "  </thead>\n",
       "  <tbody>\n",
       "    <tr>\n",
       "      <th>2</th>\n",
       "      <td>8480</td>\n",
       "      <td>8480</td>\n",
       "      <td>8480</td>\n",
       "      <td>8480</td>\n",
       "    </tr>\n",
       "    <tr>\n",
       "      <th>3</th>\n",
       "      <td>8569</td>\n",
       "      <td>8569</td>\n",
       "      <td>8569</td>\n",
       "      <td>8569</td>\n",
       "    </tr>\n",
       "  </tbody>\n",
       "</table>\n",
       "</div>"
      ],
      "text/plain": [
       "           user_id  likes  views   ctr\n",
       "exp_group                             \n",
       "2             8480   8480   8480  8480\n",
       "3             8569   8569   8569  8569"
      ]
     },
     "execution_count": 5,
     "metadata": {},
     "output_type": "execute_result"
    }
   ],
   "source": [
    "# Записываем группу 2 и 3 в датафрейм\n",
    "\n",
    "q = \"\"\"\n",
    "SELECT exp_group, \n",
    "    user_id,\n",
    "    sum(action = 'like') as likes,\n",
    "    sum(action = 'view') as views,\n",
    "    likes/views as ctr\n",
    "FROM {db}.feed_actions \n",
    "WHERE toDate(time) >= '2022-05-17' and toDate(time) <= '2022-05-23'\n",
    "    and exp_group in (2, 3)\n",
    "GROUP BY exp_group, user_id\n",
    "\"\"\"\n",
    "\n",
    "df= pandahouse.read_clickhouse(q, connection=connection)\n",
    "\n",
    "df.groupby('exp_group').count()"
   ]
  },
  {
   "cell_type": "code",
   "execution_count": 6,
   "id": "fe5fd582-a26f-4ba9-a7d1-afb4b12b9670",
   "metadata": {},
   "outputs": [],
   "source": [
    "# Делаем симуляцию 10000 АА-тестов\n",
    "# На каждой итерации формируем подвыборки с повторением в 500 юзеров из 2 и 3 экспериментальной группы\n",
    "# Затем проводим сравнение этих подвыборок t-testом."
   ]
  },
  {
   "cell_type": "code",
   "execution_count": 7,
   "id": "3101f60c-ffb5-424e-bf93-810cdd710e5a",
   "metadata": {},
   "outputs": [],
   "source": [
    "from numpy import random\n",
    "res = []\n",
    "for _ in range(10000):\n",
    "  a = random.choice(df.query('exp_group==2').ctr, size=500, replace=True)\n",
    "  b = random.choice(df.query('exp_group==3').ctr, size=500, replace=True)\n",
    "  pval = stats.ttest_ind(a,b,equal_var=False)\n",
    "  res.append(pval[1])"
   ]
  },
  {
   "cell_type": "code",
   "execution_count": 11,
   "id": "b2973043-9548-4224-8d69-f98599fa9999",
   "metadata": {},
   "outputs": [
    {
     "data": {
      "text/plain": [
       "<AxesSubplot:ylabel='Count'>"
      ]
     },
     "execution_count": 11,
     "metadata": {},
     "output_type": "execute_result"
    },
    {
     "data": {
      "image/png": "[encoded data removed]",
      "text/plain": [
       "<Figure size 432x288 with 1 Axes>"
      ]
     },
     "metadata": {
      "needs_background": "light"
     },
     "output_type": "display_data"
    }
   ],
   "source": [
    "# Cтроим гистограмму распределения получившихся 10000 p-values\n",
    "\n",
    "sns.histplot(res)"
   ]
  },
  {
   "cell_type": "code",
   "execution_count": 14,
   "id": "e50647ea-44d2-434f-9c84-25ae67bbeb24",
   "metadata": {},
   "outputs": [
    {
     "data": {
      "text/plain": [
       "5.57"
      ]
     },
     "execution_count": 14,
     "metadata": {},
     "output_type": "execute_result"
    }
   ],
   "source": [
    "# Считаем, какой процент p values оказался меньше либо равен 0.05\n",
    "\n",
    "df = pd.DataFrame(data=res, columns=['pvalue'])\n",
    "(df.query('pvalue <= 0.05').shape[0]/df.shape[0])*100"
   ]
  },
  {
   "cell_type": "code",
   "execution_count": 15,
   "id": "49296356-6429-410e-b2f0-8e4d57d41fe2",
   "metadata": {},
   "outputs": [],
   "source": [
    "# Написать вывод по проведенному АА-тесту, корректно ли работает наша система сплитования"
   ]
  },
  {
   "cell_type": "markdown",
   "id": "7fe3a849-278f-4045-b9e6-2400fa5ee35b",
   "metadata": {},
   "source": [
    "Ложноположительных результатов получилось несколько больше ожидаемых 5%, но в пределах погрешности. Поэтому на первый взгляд кажется, что система сплитования работает корректно"
   ]
  }
 ],
 "metadata": {
  "kernelspec": {
   "display_name": "Python 3 (ipykernel)",
   "language": "python",
   "name": "python3"
  },
  "language_info": {
   "codemirror_mode": {
    "name": "ipython",
    "version": 3
   },
   "file_extension": ".py",
   "mimetype": "text/x-python",
   "name": "python",
   "nbconvert_exporter": "python",
   "pygments_lexer": "ipython3",
   "version": "3.8.10"
  }
 },
 "nbformat": 4,
 "nbformat_minor": 5
}
